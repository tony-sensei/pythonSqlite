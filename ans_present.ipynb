{
 "cells": [
  {
   "cell_type": "markdown",
   "source": [
    "The output in looker studio:\n",
    "[LINK](https://lookerstudio.google.com/embed/reporting/2d94a92e-7881-4adf-bfd7-c32a2c5b77fb/page/axcID)"
   ],
   "metadata": {
    "collapsed": false
   }
  },
  {
   "cell_type": "markdown",
   "source": [
    "Clustering with KMeans"
   ],
   "metadata": {
    "collapsed": false
   }
  },
  {
   "cell_type": "code",
   "execution_count": 1,
   "outputs": [],
   "source": [
    "import pandas as pd\n",
    "import numpy as np\n",
    "from sklearn.cluster import KMeans\n",
    "from sklearn.preprocessing import StandardScaler\n",
    "from sklearn.cluster import SpectralBiclustering"
   ],
   "metadata": {
    "collapsed": false
   }
  },
  {
   "cell_type": "code",
   "execution_count": 5,
   "outputs": [],
   "source": [
    "# standardize the scores based on lights\n",
    "\n",
    "# Load the CSV data\n",
    "df = pd.read_csv('datasets/latest_scores.csv')\n",
    "\n",
    "# Create a dictionary to map categories to their score ranges\n",
    "score_ranges = {\n",
    "    \"RSDQE\": [(0, 3), (4, 4), (5, 10)],\n",
    "    \"RSDQB\": [(0, 2), (3, 3), (4, 10)],\n",
    "    \"RSDQH\": [(0, 5), (6, 6), (7, 10)],\n",
    "    \"RSDQP\": [(0, 2), (3, 3), (4, 10)],\n",
    "    \"RIDELA\": [(6, 10), (5, 5), (0, 4)],\n",
    "}\n",
    "\n",
    "def standardize_score(row):\n",
    "    name = row[\"name\"]\n",
    "    score = row[\"score\"]\n",
    "    ranges = score_ranges[name]\n",
    "\n",
    "    # Find the corresponding range for the score\n",
    "    for i, r in enumerate(ranges):\n",
    "        if r[0] <= score <= r[1]:\n",
    "            if i == 0:  # Green\n",
    "                if name == \"RIDELA\":\n",
    "                    return (r[1] - score)/(r[1] - r[0]) * 0.5\n",
    "                else:\n",
    "                    return (score - r[0])/(r[1] - r[0]) * 0.5\n",
    "            elif i == 1:  # Orange\n",
    "                return 0.5\n",
    "            elif i == 2:  # Red\n",
    "                if name == \"RIDELA\":\n",
    "                    return 0.5 + (r[1] - score) / (r[1] - r[0]) * 0.5\n",
    "                else:\n",
    "                    return 0.5 + (score - r[0]) / (r[1] - r[0]) * 0.5\n",
    "\n",
    "# Apply the standardize_score function to each row and create a new column with standardized scores\n",
    "df[\"standardized\"] = df.apply(standardize_score, axis=1)\n",
    "\n",
    "# Save the new DataFrame to a CSV file\n",
    "df.to_csv(\"datasets/standardized_scores.csv\", index=False)\n"
   ],
   "metadata": {
    "collapsed": false
   }
  },
  {
   "cell_type": "code",
   "execution_count": 5,
   "outputs": [],
   "source": [],
   "metadata": {
    "collapsed": false
   }
  }
 ],
 "metadata": {
  "kernelspec": {
   "display_name": "Python 3",
   "language": "python",
   "name": "python3"
  },
  "language_info": {
   "codemirror_mode": {
    "name": "ipython",
    "version": 2
   },
   "file_extension": ".py",
   "mimetype": "text/x-python",
   "name": "python",
   "nbconvert_exporter": "python",
   "pygments_lexer": "ipython2",
   "version": "2.7.6"
  }
 },
 "nbformat": 4,
 "nbformat_minor": 0
}
